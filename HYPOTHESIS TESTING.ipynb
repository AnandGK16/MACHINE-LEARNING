{
 "cells": [
  {
   "cell_type": "markdown",
   "id": "8b021a7b-a0a6-4233-84a8-f0516a90932a",
   "metadata": {},
   "source": [
    "# HYPOTHESIS TESTING"
   ]
  },
  {
   "cell_type": "code",
   "execution_count": 1,
   "id": "b232ef83-790d-4908-a893-2d3935b1814a",
   "metadata": {},
   "outputs": [
    {
     "name": "stdout",
     "output_type": "stream",
     "text": [
      "Requirement already satisfied: statsmodels in c:\\users\\user\\appdata\\local\\programs\\python\\python311\\lib\\site-packages (0.14.1)Note: you may need to restart the kernel to use updated packages.\n",
      "\n",
      "Requirement already satisfied: numpy<2,>=1.18 in c:\\users\\user\\appdata\\local\\programs\\python\\python311\\lib\\site-packages (from statsmodels) (1.26.2)\n",
      "Requirement already satisfied: scipy!=1.9.2,>=1.4 in c:\\users\\user\\appdata\\local\\programs\\python\\python311\\lib\\site-packages (from statsmodels) (1.13.0)\n",
      "Requirement already satisfied: pandas!=2.1.0,>=1.0 in c:\\users\\user\\appdata\\local\\programs\\python\\python311\\lib\\site-packages (from statsmodels) (2.1.4)\n",
      "Requirement already satisfied: patsy>=0.5.4 in c:\\users\\user\\appdata\\local\\programs\\python\\python311\\lib\\site-packages (from statsmodels) (0.5.6)\n",
      "Requirement already satisfied: packaging>=21.3 in c:\\users\\user\\appdata\\local\\programs\\python\\python311\\lib\\site-packages (from statsmodels) (23.2)\n",
      "Requirement already satisfied: python-dateutil>=2.8.2 in c:\\users\\user\\appdata\\local\\programs\\python\\python311\\lib\\site-packages (from pandas!=2.1.0,>=1.0->statsmodels) (2.8.2)\n",
      "Requirement already satisfied: pytz>=2020.1 in c:\\users\\user\\appdata\\local\\programs\\python\\python311\\lib\\site-packages (from pandas!=2.1.0,>=1.0->statsmodels) (2023.3.post1)\n",
      "Requirement already satisfied: tzdata>=2022.1 in c:\\users\\user\\appdata\\local\\programs\\python\\python311\\lib\\site-packages (from pandas!=2.1.0,>=1.0->statsmodels) (2023.3)\n",
      "Requirement already satisfied: six in c:\\users\\user\\appdata\\local\\programs\\python\\python311\\lib\\site-packages (from patsy>=0.5.4->statsmodels) (1.16.0)\n"
     ]
    },
    {
     "name": "stderr",
     "output_type": "stream",
     "text": [
      "\n",
      "[notice] A new release of pip is available: 23.2.1 -> 24.0\n",
      "[notice] To update, run: python.exe -m pip install --upgrade pip\n"
     ]
    }
   ],
   "source": [
    "pip install statsmodels"
   ]
  },
  {
   "cell_type": "code",
   "execution_count": 2,
   "id": "103787c2-5c64-4835-a39f-f9fd3b0bd2be",
   "metadata": {},
   "outputs": [
    {
     "name": "stdout",
     "output_type": "stream",
     "text": [
      "Requirement already satisfied: scipy in c:\\users\\user\\appdata\\local\\programs\\python\\python311\\lib\\site-packages (1.13.0)Note: you may need to restart the kernel to use updated packages.\n",
      "\n",
      "Requirement already satisfied: numpy<2.3,>=1.22.4 in c:\\users\\user\\appdata\\local\\programs\\python\\python311\\lib\\site-packages (from scipy) (1.26.2)\n"
     ]
    },
    {
     "name": "stderr",
     "output_type": "stream",
     "text": [
      "\n",
      "[notice] A new release of pip is available: 23.2.1 -> 24.0\n",
      "[notice] To update, run: python.exe -m pip install --upgrade pip\n"
     ]
    }
   ],
   "source": [
    "pip install scipy"
   ]
  },
  {
   "cell_type": "code",
   "execution_count": 3,
   "id": "64a5efcc-b110-45b6-a6e2-d9f17182451e",
   "metadata": {},
   "outputs": [],
   "source": [
    "import numpy as np"
   ]
  },
  {
   "cell_type": "markdown",
   "id": "e25521b7-e0fe-44c9-be37-4f2591a578de",
   "metadata": {},
   "source": [
    "### TASKS"
   ]
  },
  {
   "cell_type": "markdown",
   "id": "fa92a720-a76c-4d6e-9d7f-46b4dbc7787b",
   "metadata": {},
   "source": [
    "#### Q1.Suppose a child psychologist claims that the average time working mothers spend talking to their children is at least 11 minutes per day. You conduct a random sample of 1000 working mothers and find they spend an average of 11.5 minutes per day talking with their children. Assume prior research suggests the population standard deviation is 2.3 minutes.Conduct a test with a level of significance of alpha = 0.05"
   ]
  },
  {
   "cell_type": "markdown",
   "id": "aad44828-1c73-409b-873a-7b8158fa4b07",
   "metadata": {},
   "source": [
    "#### NULL HYPOTHESIS\n",
    "##### Ho = μ ≤ 11 minutes\r",
    "#### ALTERNATIVE HYPOTHESIS\n",
    "##### Ha = μ > 11 minutes5\n",
    "\r\n"
   ]
  },
  {
   "cell_type": "markdown",
   "id": "bb742178-e934-4c09-81f2-af3eeddb4ff1",
   "metadata": {},
   "source": [
    "##### x̄ = 11.5 minutes"
   ]
  },
  {
   "cell_type": "markdown",
   "id": "cdab4639-a590-4a5c-95b6-7e704258dd8b",
   "metadata": {},
   "source": [
    "##### n = 1000"
   ]
  },
  {
   "cell_type": "markdown",
   "id": "4e48e762-3077-4be4-b6df-fc55b8e6d528",
   "metadata": {},
   "source": [
    "##### σ = 2.3 minutes"
   ]
  },
  {
   "cell_type": "markdown",
   "id": "d1440e2a-6561-4961-8a3f-3229c67f12a9",
   "metadata": {},
   "source": [
    "##### α = 0.05"
   ]
  },
  {
   "cell_type": "markdown",
   "id": "6b824b60-3716-4d69-a433-9ef347fdf4ac",
   "metadata": {},
   "source": [
    "##### μ = 11 minutes"
   ]
  },
  {
   "cell_type": "markdown",
   "id": "5d473d10-a438-41c7-906d-0221384890f5",
   "metadata": {},
   "source": [
    "#### Z TEST\n",
    "##### We acn use Z-test because we havewe have a sample mean, standard deviation, and want to compare the sample mean to a population value.Also the sample size is 1000 which is greater than 30.\n"
   ]
  },
  {
   "cell_type": "markdown",
   "id": "129b5c1a-135e-469d-b100-c120011079fd",
   "metadata": {},
   "source": [
    "#### Z=(x̄ - μ)/(σ/√n)"
   ]
  },
  {
   "cell_type": "code",
   "execution_count": 4,
   "id": "5f23b85e-93d3-4748-8644-98785681a136",
   "metadata": {},
   "outputs": [],
   "source": [
    "import math"
   ]
  },
  {
   "cell_type": "code",
   "execution_count": 5,
   "id": "39d7de1b-60c7-4da6-bf5f-3d103ecf5219",
   "metadata": {},
   "outputs": [
    {
     "name": "stdout",
     "output_type": "stream",
     "text": [
      "Z= 6.874516652539955\n"
     ]
    }
   ],
   "source": [
    "Z = (11.5-11)/(2.3/math.sqrt(1000))\n",
    "print(\"Z=\",Z)"
   ]
  },
  {
   "cell_type": "markdown",
   "id": "a5fc112b-d027-403e-a1bb-86292a6f8a98",
   "metadata": {},
   "source": [
    "##### crirical value for a z-score corresponding to an alpha level of 0.05 from z-distribution table = 1.645"
   ]
  },
  {
   "cell_type": "markdown",
   "id": "263bdc42-e728-4c93-bd5f-6126db5fbb26",
   "metadata": {},
   "source": [
    "#### INFERENCE\n",
    "##### Calculated z-score is 6.88  which is much greater than the critical value 1.645, so reject the null hypothesis.That means the average time working mothers spend talking to their children is indeed more than 11 minutes per day.\n",
    "\n"
   ]
  },
  {
   "cell_type": "markdown",
   "id": "a4fa8c8f-63a9-47b3-ac0f-f390976d1670",
   "metadata": {},
   "source": []
  },
  {
   "cell_type": "markdown",
   "id": "cc8af8dc-6f9c-4f0c-a454-b00033949513",
   "metadata": {},
   "source": [
    "#### Q2. A coffee shop claims that their average wait time for customers is less than 5 minutes. To test this claim, a sample of 40 customers is taken, and their wait times are recorded. The sample mean wait time is found to be 4.6 minutes with a standard deviation of 0.8 minutes. Perform a hypothesis test at a significance level of 0.05 and determine whether there is enough evidence to support the coffee shop's claim.\n"
   ]
  },
  {
   "cell_type": "markdown",
   "id": "e6d0913f-5ce7-4e83-bfad-5822f43a7b5b",
   "metadata": {},
   "source": [
    "#### NULL HYPOTHESIS\n",
    "##### Ho = μ ≥ 5 minutes\n",
    "#### ALTERNATIVE HYPOTHESIS\n",
    "##### Ha = μ < 5 minutes"
   ]
  },
  {
   "cell_type": "markdown",
   "id": "0ab2cee5-597b-4a2f-9746-3dce6e33b2e5",
   "metadata": {},
   "source": [
    "##### x̄ = 4.6 minutes"
   ]
  },
  {
   "cell_type": "markdown",
   "id": "3f2055a5-d775-4329-8332-ed53b56dfcbf",
   "metadata": {},
   "source": [
    "##### n = 40"
   ]
  },
  {
   "cell_type": "markdown",
   "id": "e7bf7693-64ff-41c9-8b31-0a15b8c421d1",
   "metadata": {},
   "source": [
    "##### σ (standard deviation of sample) = 0.8 minutes"
   ]
  },
  {
   "cell_type": "markdown",
   "id": "06bd9c42-a52f-4247-86cb-1d32ef2b318e",
   "metadata": {},
   "source": [
    "##### α = 0.05"
   ]
  },
  {
   "cell_type": "markdown",
   "id": "c40fb6e6-fde3-469e-91c0-06d3bb1fa9bf",
   "metadata": {},
   "source": [
    "##### Degree of freedom(n-1) = 39"
   ]
  },
  {
   "cell_type": "markdown",
   "id": "e99c2eb4-5dae-4b3e-b5bb-b123eee28ddd",
   "metadata": {},
   "source": [
    "##### μ = 5 minutes"
   ]
  },
  {
   "cell_type": "markdown",
   "id": "2efa107d-ea13-4c0c-951a-a0254be218be",
   "metadata": {},
   "source": [
    "#### T TEST\n",
    "##### When the population standard deviation is unknown, the t-test is suitable, especially for smaller sample sizes, typically less than 30. However, even for larger sample sizes, typically greater than 30, the t-test remains applicable despite the unknown population standard deviation, owing to the Central Limit Theorem. This theorem states that as the sample size increases, the distribution of sample means tends towards a normal distribution.\n",
    "\r\n",
    "\r\n",
    "\r\n"
   ]
  },
  {
   "cell_type": "markdown",
   "id": "31f1ec2f-03b6-4134-b762-54159e97ee64",
   "metadata": {},
   "source": [
    "#### t = (x̄ - μ) / (σ / √n)"
   ]
  },
  {
   "cell_type": "code",
   "execution_count": 6,
   "id": "d71d0173-7a63-4a4a-9ecf-f9c56730f633",
   "metadata": {},
   "outputs": [
    {
     "name": "stdout",
     "output_type": "stream",
     "text": [
      "t= -3.162277660168382\n"
     ]
    }
   ],
   "source": [
    "t = (4.6-5)/(0.8/math.sqrt(40))\n",
    "print(\"t=\",t)"
   ]
  },
  {
   "cell_type": "markdown",
   "id": "eb5a168d-92b6-493b-9485-60030c45da13",
   "metadata": {},
   "source": [
    "##### The function t.ppf(alpha, df) calculates a critical value from the t-distribution based on the provided significance level (alpha) and degrees of freedom (df)..\r\n",
    "\r\n"
   ]
  },
  {
   "cell_type": "markdown",
   "id": "50edca0c-6c10-4bd2-a373-af6b7adf4cf9",
   "metadata": {},
   "source": [
    "##### The term \"percent point function\" (ppf) means it gives you a value from the distribution such that if you randomly select a value from the distribution, there's a certain probability it will be less than or equal to that value."
   ]
  },
  {
   "cell_type": "code",
   "execution_count": 7,
   "id": "9a229845-5036-4a3f-8dc0-69d9a406fab8",
   "metadata": {},
   "outputs": [
    {
     "name": "stdout",
     "output_type": "stream",
     "text": [
      "Critical value: -1.684875121711225\n"
     ]
    }
   ],
   "source": [
    "#calculating the critical value with df 39 and alpha 0.05\n",
    "from scipy.stats import t\n",
    "critical_value = t.ppf(0.05, 39)\n",
    "print(\"Critical value:\", critical_value)"
   ]
  },
  {
   "cell_type": "markdown",
   "id": "f51e9ba0-1d9b-4111-837a-b98a3c3f4ddd",
   "metadata": {},
   "source": [
    "##### Calculated t-value, which is -3.16, falls below the critical t-value of -1.685. Therefore, we reject the null hypothesis. This implies there is sufficient evidence to support the assertion that the average wait time for customers is less than 5 minutes at a significance level of 0.05."
   ]
  },
  {
   "cell_type": "code",
   "execution_count": null,
   "id": "4a117202-ac08-4d63-a2d0-a08aca0cf258",
   "metadata": {},
   "outputs": [],
   "source": []
  }
 ],
 "metadata": {
  "kernelspec": {
   "display_name": "Python 3 (ipykernel)",
   "language": "python",
   "name": "python3"
  },
  "language_info": {
   "codemirror_mode": {
    "name": "ipython",
    "version": 3
   },
   "file_extension": ".py",
   "mimetype": "text/x-python",
   "name": "python",
   "nbconvert_exporter": "python",
   "pygments_lexer": "ipython3",
   "version": "3.11.5"
  }
 },
 "nbformat": 4,
 "nbformat_minor": 5
}
